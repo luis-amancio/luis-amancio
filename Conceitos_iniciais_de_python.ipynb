{
  "nbformat": 4,
  "nbformat_minor": 0,
  "metadata": {
    "colab": {
      "provenance": [],
      "toc_visible": true,
      "authorship_tag": "ABX9TyOO2+UqHX8JaHn4gDuz7JGX",
      "include_colab_link": true
    },
    "kernelspec": {
      "name": "python3",
      "display_name": "Python 3"
    },
    "language_info": {
      "name": "python"
    }
  },
  "cells": [
    {
      "cell_type": "markdown",
      "metadata": {
        "id": "view-in-github",
        "colab_type": "text"
      },
      "source": [
        "<a href=\"https://colab.research.google.com/github/luis-amancio/luis-amancio/blob/main/Conceitos_iniciais_de_python.ipynb\" target=\"_parent\"><img src=\"https://colab.research.google.com/assets/colab-badge.svg\" alt=\"Open In Colab\"/></a>"
      ]
    },
    {
      "cell_type": "markdown",
      "source": [
        "# Módulo 1 - Programação em **Python**\n",
        "\n"
      ],
      "metadata": {
        "id": "gm0ZTzWw-c1k"
      }
    },
    {
      "cell_type": "markdown",
      "source": [
        "Nesse módulo vamos estudar a sintaxe nativa do Python. <p>\n",
        "\n",
        "**O que é Python?** <p>\n",
        "Python é uma linguagem de programação popular.Foi criado por Guido van Rossum e lançado em 1991.\n",
        "\n",
        "**Python pode ser usado para:**\n",
        "\n",
        "1.   Inteligência Artificial;\n",
        "2.   Machine Learning;\n",
        "3.   Desenvolvimento de Software;\n",
        "4.   Desenvolvimento de aplicativos;\n",
        "5.   Automações (RPA);\n",
        "6.   IoT (internet das coisas);\n",
        "7.   Muitas outras."
      ],
      "metadata": {
        "id": "SWycic7zBLEk"
      }
    },
    {
      "cell_type": "markdown",
      "source": [
        "# 1. Sintaxe básica <p>\n",
        "\n",
        "Podemos utilizar ' ' (Aspas Simples) <p>\n",
        "Podemos utilizar \" \" (Aspas duplas) <p>\n",
        "Usando o \\n para pular uma linha na impressão do valor <p>\n",
        "Utilizando o hashtag # para comentar algo."
      ],
      "metadata": {
        "id": "aoG7s4kbBcrr"
      }
    },
    {
      "cell_type": "code",
      "source": [
        "print (' Hello World! \\n')\n",
        "print (' Hello World \\n Much Better! \\n')\n",
        "print (\" Hello World \")"
      ],
      "metadata": {
        "colab": {
          "base_uri": "https://localhost:8080/"
        },
        "id": "bb79zlaI-Yq8",
        "outputId": "e57c1a29-0761-4602-be6a-62824ff551ee"
      },
      "execution_count": 16,
      "outputs": [
        {
          "output_type": "stream",
          "name": "stdout",
          "text": [
            " Hello World! \n",
            "\n",
            " Hello World \n",
            " Much Better! \n",
            "\n",
            " Hello World \n"
          ]
        }
      ]
    },
    {
      "cell_type": "markdown",
      "source": [
        "# 2. Operadores matemáticos\n",
        "\n",
        "1. Soma <p>\n",
        "2. Subtração <p>\n",
        "3. Multiplicação <p>\n",
        "4. Divisão <p>\n",
        "5. Exponenciação <p>\n",
        "6. Resto da Divisão <p>\n",
        "7. Divisão de Chão <p>"
      ],
      "metadata": {
        "id": "XOvvgVm1BV39"
      }
    },
    {
      "cell_type": "code",
      "source": [
        "#soma\n",
        "1 + 1 #operador de soma +"
      ],
      "metadata": {
        "colab": {
          "base_uri": "https://localhost:8080/"
        },
        "id": "fNB240xesm43",
        "outputId": "fe055236-47ec-4b0d-a75a-0448884cda1e"
      },
      "execution_count": 5,
      "outputs": [
        {
          "output_type": "execute_result",
          "data": {
            "text/plain": [
              "2"
            ]
          },
          "metadata": {},
          "execution_count": 5
        }
      ]
    },
    {
      "cell_type": "code",
      "source": [
        "#subtração: operador da subtração -\n",
        "2-1"
      ],
      "metadata": {
        "colab": {
          "base_uri": "https://localhost:8080/"
        },
        "id": "rzCFbhfducuW",
        "outputId": "0e192a32-3009-4b65-b958-c01722b8359f"
      },
      "execution_count": 6,
      "outputs": [
        {
          "output_type": "execute_result",
          "data": {
            "text/plain": [
              "1"
            ]
          },
          "metadata": {},
          "execution_count": 6
        }
      ]
    },
    {
      "cell_type": "code",
      "source": [
        "#multiplicação: operador de multiplicação *\n",
        "2*2"
      ],
      "metadata": {
        "colab": {
          "base_uri": "https://localhost:8080/"
        },
        "id": "Yl6MKNd0uk88",
        "outputId": "8aed1ec0-c791-4fff-8739-f5117f7fb46e"
      },
      "execution_count": 7,
      "outputs": [
        {
          "output_type": "execute_result",
          "data": {
            "text/plain": [
              "4"
            ]
          },
          "metadata": {},
          "execution_count": 7
        }
      ]
    },
    {
      "cell_type": "code",
      "source": [
        "#divisão: operador de divisão /\n",
        "6/2"
      ],
      "metadata": {
        "colab": {
          "base_uri": "https://localhost:8080/"
        },
        "id": "FRgw08oiuvBS",
        "outputId": "37062b3c-7096-4508-9365-6f24e5c807b3"
      },
      "execution_count": 8,
      "outputs": [
        {
          "output_type": "execute_result",
          "data": {
            "text/plain": [
              "3.0"
            ]
          },
          "metadata": {},
          "execution_count": 8
        }
      ]
    },
    {
      "cell_type": "code",
      "source": [
        "#exponenciação: operador de expoentes **\n",
        "2**3"
      ],
      "metadata": {
        "colab": {
          "base_uri": "https://localhost:8080/"
        },
        "id": "_7ISSFISu2JP",
        "outputId": "4fd3ad65-1b5c-4d01-9d44-62947819e52b"
      },
      "execution_count": 9,
      "outputs": [
        {
          "output_type": "execute_result",
          "data": {
            "text/plain": [
              "8"
            ]
          },
          "metadata": {},
          "execution_count": 9
        }
      ]
    },
    {
      "cell_type": "code",
      "source": [
        "#resto de divisão %\n",
        "3%4"
      ],
      "metadata": {
        "colab": {
          "base_uri": "https://localhost:8080/"
        },
        "id": "a9hJnlNou9vt",
        "outputId": "50d27084-afe2-4834-d613-8a70dc0d5f5d"
      },
      "execution_count": 10,
      "outputs": [
        {
          "output_type": "execute_result",
          "data": {
            "text/plain": [
              "3"
            ]
          },
          "metadata": {},
          "execution_count": 10
        }
      ]
    },
    {
      "cell_type": "code",
      "source": [
        "#divisão de chão //\n",
        "3//3"
      ],
      "metadata": {
        "colab": {
          "base_uri": "https://localhost:8080/"
        },
        "id": "MGDHGEJ1vLso",
        "outputId": "c74acd08-d5dc-4ed5-8f0e-05657bd765ee"
      },
      "execution_count": 12,
      "outputs": [
        {
          "output_type": "execute_result",
          "data": {
            "text/plain": [
              "1"
            ]
          },
          "metadata": {},
          "execution_count": 12
        }
      ]
    },
    {
      "cell_type": "markdown",
      "source": [
        "# Variáveis\n",
        "\n",
        "Variáveis ​​são contêineres para armazenar valores de dados.<p>\n",
        "Uma variável é criada no momento em que você atribui um valor a ela."
      ],
      "metadata": {
        "id": "sMfphJAcDnk9"
      }
    },
    {
      "cell_type": "code",
      "source": [
        "#Tipos de Variáveis\n",
        "\n",
        "Inteiro_exemplo_1 = int (100)\n",
        "Inteiro_exemplo_2 = 100\n",
        "\n",
        "Flutuante_exemplo_1 = 10.50\n",
        "Flutuante_exemplo_2 = float(10.50)\n",
        "\n",
        "Palavra_exemplo_1 = 'Qualquer Palavra'\n",
        "Palavra_exemplo_2 = str('Qaulquer Palavra')\n",
        "\n",
        "Booleando_exemplo_1 = True\n",
        "Booleando_exemplo_2 = False\n",
        "\n",
        "print (Inteiro_exemplo_1, Inteiro_exemplo_2)\n",
        "print (Flutuante_exemplo_1, Flutuante_exemplo_2)\n",
        "print (Booleando_exemplo_1, Booleando_exemplo_2)"
      ],
      "metadata": {
        "colab": {
          "base_uri": "https://localhost:8080/"
        },
        "id": "3vJ6lVfUDwiH",
        "outputId": "e2ea5e11-183b-4870-b434-82a585d44244"
      },
      "execution_count": 18,
      "outputs": [
        {
          "output_type": "stream",
          "name": "stdout",
          "text": [
            "100 100\n",
            "10.5 10.5\n",
            "True False\n"
          ]
        }
      ]
    },
    {
      "cell_type": "markdown",
      "source": [
        "# 4. Tipos de Dados\n",
        "\n",
        "1. Listas - São criadas usando [] (Colchetes) <p>\n",
        "2. Tuplas - São criadas usando () (Parenteses) <p>\n",
        "3. Dicionários - São criados usando {} (Chaves)."
      ],
      "metadata": {
        "id": "W1oqwunqRVfD"
      }
    },
    {
      "cell_type": "code",
      "source": [
        "#Tipos de dados\n",
        "\n",
        "Lista_exemplo_1 = [1, 2, 3, 4, 5]\n",
        "Lista_exemplo_2 = ['Nome', 'Quarto', 'Morango', 4, 5]\n",
        "Lista_exemplo_3 = [1, 'Quarto', True, False]\n",
        "\n",
        "##Uma tupla em Python é uma estrutura de dados imutável, ordenada e que pode armazenar diferentes tipos de dados.\n",
        "Tupla_exemplo_1 = (2, 3, 4, 5, 6)\n",
        "Tupla_exemplo_2 = ('Luis', 'Engenheiro', 50.000)\n",
        "\n",
        "#Dicionários são para organizar os dados (Chave, Valor)\n",
        "Dicionario = {'Nome': 'Luis Henrique', 'Idade': 37}\n",
        "\n",
        "print (Lista_exemplo_1)\n",
        "print (Lista_exemplo_2)\n",
        "print (Lista_exemplo_3)\n",
        "\n",
        "print (Tupla_exemplo_1)\n",
        "print (Tupla_exemplo_2)\n",
        "\n",
        "print (Dicionario)\n"
      ],
      "metadata": {
        "colab": {
          "base_uri": "https://localhost:8080/"
        },
        "id": "wmUlLtHaShgJ",
        "outputId": "6a2007e5-3fe9-494f-8f69-fcc57ddfeca4"
      },
      "execution_count": 20,
      "outputs": [
        {
          "output_type": "stream",
          "name": "stdout",
          "text": [
            "[1, 2, 3, 4, 5]\n",
            "['Nome', 'Quarto', 'Morango', 4, 5]\n",
            "[1, 'Quarto', True, False]\n",
            "(2, 3, 4, 5, 6)\n",
            "('Luis', 'Engenheiro', 50.0)\n",
            "{'Nome': 'Luis Henrique', 'Idade': 37}\n"
          ]
        }
      ]
    },
    {
      "cell_type": "code",
      "source": [],
      "metadata": {
        "id": "HkEKFqsiUV-4"
      },
      "execution_count": null,
      "outputs": []
    }
  ]
}